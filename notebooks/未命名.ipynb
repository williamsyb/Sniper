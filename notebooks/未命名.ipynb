{
 "cells": [
  {
   "cell_type": "code",
   "execution_count": 1,
   "metadata": {},
   "outputs": [],
   "source": [
    "# 国证指数\n",
    "#  \"index_cni_all\"  # 国证指数-所有指数\n",
    "#  \"index_cni_hist\"  # 国证指数-指数行情\n",
    "#  \"index_cni_detail\"  # 国证指数-样本详情\n",
    "#  \"index_cni_detail_hist\"  # 国证指数-历史样本\n",
    "#  \"index_cni_detail_hist_adjust\"  # 国证指数-历史调样"
   ]
  },
  {
   "cell_type": "code",
   "execution_count": 2,
   "metadata": {},
   "outputs": [],
   "source": [
    "#  # 中证指数\n",
    "#  \"stock_zh_index_hist_csindex\"  # 中证指数"
   ]
  },
  {
   "cell_type": "code",
   "execution_count": 3,
   "metadata": {},
   "outputs": [],
   "source": [
    " # 股票指数-成份股\n",
    "#  \"index_stock_cons\"  # 股票指数-成份股-最新成份股获取\n",
    "#  \"index_stock_info\"  # 股票指数-成份股-所有可以获取的指数表\n",
    "#  \"index_stock_info_sina\"  # 股票指数-成份股-所有可以获取的指数表-新浪新接口\n",
    "#  \"index_stock_hist\"  # 股票指数-历史成份股"
   ]
  },
  {
   "cell_type": "code",
   "execution_count": 4,
   "metadata": {},
   "outputs": [],
   "source": [
    " # 申万行业指数\n",
    "#  \"sw_index_spot\"  # 获取申万一级实时行情\n",
    "#  \"sw_index_cons\"  # 获取申万一级板块成份\n",
    "#  \"sw_index_daily\"  # 获取申万一级历史行情\n",
    "#  \"sw_index_daily_indicator\"  # 获取申万一级历史行情指标"
   ]
  },
  {
   "cell_type": "code",
   "execution_count": 5,
   "metadata": {},
   "outputs": [],
   "source": [
    " # 指数实时行情和历史行情\n",
    "#  \"stock_zh_index_daily\"  # 股票指数历史行情数据\n",
    "#  \"stock_zh_index_daily_tx\"  # 股票指数历史行情数据-腾讯\n",
    "#  \"stock_zh_index_daily_em\"  # 股票指数历史行情数据-东方财富\n",
    "#  \"stock_zh_index_spot\"  # 股票指数实时行情数据"
   ]
  },
  {
   "cell_type": "code",
   "execution_count": null,
   "metadata": {},
   "outputs": [],
   "source": []
  }
 ],
 "metadata": {
  "kernelspec": {
   "display_name": "Python 3",
   "language": "python",
   "name": "python3"
  },
  "language_info": {
   "codemirror_mode": {
    "name": "ipython",
    "version": 3
   },
   "file_extension": ".py",
   "mimetype": "text/x-python",
   "name": "python",
   "nbconvert_exporter": "python",
   "pygments_lexer": "ipython3",
   "version": "3.7.1"
  }
 },
 "nbformat": 4,
 "nbformat_minor": 4
}
